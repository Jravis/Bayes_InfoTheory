{
 "cells": [
  {
   "cell_type": "markdown",
   "metadata": {},
   "source": [
    "# Supervised Machine Learning basics: Titanic example"
   ]
  },
  {
   "cell_type": "markdown",
   "metadata": {},
   "source": [
    "Florent Leclercq,<br/>\n",
    "Institute of Cosmology and Gravitation, University of Portsmouth,<br/>\n",
    "florent.leclercq@polytechnique.org"
   ]
  },
  {
   "cell_type": "code",
   "execution_count": 1,
   "metadata": {
    "collapsed": true
   },
   "outputs": [],
   "source": [
    "import numpy as np\n",
    "from sklearn.ensemble import RandomForestClassifier"
   ]
  },
  {
   "cell_type": "markdown",
   "metadata": {},
   "source": [
    "## Load training data set"
   ]
  },
  {
   "cell_type": "code",
   "execution_count": 2,
   "metadata": {
    "collapsed": false
   },
   "outputs": [],
   "source": [
    "# data set available at this address: https://www.kaggle.com/c/titanic/data\n",
    "# (version slightly modified to be conveniently loaded with numpy)\n",
    "dtype = {'names':('PassengerId','Survived','Pclass','Name','Sex',\n",
    "                        'Age','SibSp','Parch','Ticket','Fare','Cabin','Embarked'),\n",
    "               'formats': ('i4','i4','i4','S20','S6','S20','i4','i4','S20','f8','S20','S20')}\n",
    "data = np.loadtxt(\"data/titanic.csv\", dtype=dtype, delimiter=\";\", comments=\"#\")"
   ]
  },
  {
   "cell_type": "markdown",
   "metadata": {},
   "source": [
    "Data dictionary\n",
    "\n",
    "| Variable | Definition                                 | Key                                            |\n",
    "|----------|--------------------------------------------|------------------------------------------------|\n",
    "| Survived | Survival                                   | 0 = No, 1 = Yes                                |\n",
    "| Pclass   | Ticket class                               | 1 = 1st, 2 = 2nd, 3 = 3rd                      |\n",
    "| Sex      | Sex                                        |                                                |\n",
    "| Age      | Age in years                               |                                                |\n",
    "| SibSp    | # of siblings / spouses aboard the Titanic |                                                |\n",
    "| Parch    | # of parents / children aboard the Titanic |                                                |\n",
    "| Ticket   | Ticket number                              |                                                |\n",
    "| Fare     | Passenger fare                             |                                                |\n",
    "| Cabin    | Cabin number                               |                                                |\n",
    "| Embarked | Port of Embarkation                        | C = Cherbourg, Q = Queenstown, S = Southampton |"
   ]
  },
  {
   "cell_type": "code",
   "execution_count": 3,
   "metadata": {
    "collapsed": false,
    "scrolled": true
   },
   "outputs": [
    {
     "data": {
      "text/plain": [
       "(501, 0, 3, '\"Calic, Mr. Petar\"', 'male', '17', 0, 0, '315086', 8.6625, '', 'S')"
      ]
     },
     "execution_count": 3,
     "metadata": {},
     "output_type": "execute_result"
    }
   ],
   "source": [
    "data[500]"
   ]
  },
  {
   "cell_type": "code",
   "execution_count": 4,
   "metadata": {
    "collapsed": false
   },
   "outputs": [
    {
     "data": {
      "text/plain": [
       "(601, 1, 2, '\"Jacobsohn, Mrs. Sid', 'female', '24', 2, 1, '243847', 27.0, '', 'S')"
      ]
     },
     "execution_count": 4,
     "metadata": {},
     "output_type": "execute_result"
    }
   ],
   "source": [
    "data[600]"
   ]
  },
  {
   "cell_type": "markdown",
   "metadata": {},
   "source": [
    "## Parent Entropy"
   ]
  },
  {
   "cell_type": "code",
   "execution_count": 5,
   "metadata": {
    "collapsed": false
   },
   "outputs": [
    {
     "name": "stdout",
     "output_type": "stream",
     "text": [
      "Ndied=549, Nsurvived=342, Ntot=891\n",
      "H_parent=0.960707901876\n"
     ]
    }
   ],
   "source": [
    "Ntot=float(data['Survived'].size)\n",
    "Nsurvived=float(np.sum(data['Survived']==1))\n",
    "Ndied=float(np.sum(data['Survived']==0))\n",
    "H_parent = -Nsurvived/Ntot*np.log2(Nsurvived/Ntot) -Ndied/Ntot*np.log2(Ndied/Ntot)\n",
    "print \"Ndied={}, Nsurvived={}, Ntot={}\".format(int(Ndied),int(Nsurvived),int(Ntot))\n",
    "print \"H_parent={}\".format(H_parent)"
   ]
  },
  {
   "cell_type": "markdown",
   "metadata": {},
   "source": [
    "## Information gain: ticket class"
   ]
  },
  {
   "cell_type": "code",
   "execution_count": 6,
   "metadata": {
    "collapsed": false
   },
   "outputs": [
    {
     "name": "stdout",
     "output_type": "stream",
     "text": [
      "Ndied_first=80, Nsurvived_first=136, Nfirst=216\n",
      "H_first=0.950956048455\n"
     ]
    }
   ],
   "source": [
    "first_class_passengers=data[np.where(data['Pclass']==1)]\n",
    "Nfirst=float(first_class_passengers.size)\n",
    "Nsurvived_first=float(np.sum(first_class_passengers['Survived']==1))\n",
    "Ndied_first=float(np.sum(first_class_passengers['Survived']==0))\n",
    "H_first = -Nsurvived_first/Nfirst*np.log2(Nsurvived_first/Nfirst) -Ndied_first/Nfirst*np.log2(Ndied_first/Nfirst)\n",
    "print \"Ndied_first={}, Nsurvived_first={}, Nfirst={}\".format(int(Ndied_first),int(Nsurvived_first),int(Nfirst))\n",
    "print \"H_first={}\".format(H_first)"
   ]
  },
  {
   "cell_type": "code",
   "execution_count": 7,
   "metadata": {
    "collapsed": false
   },
   "outputs": [
    {
     "name": "stdout",
     "output_type": "stream",
     "text": [
      "Ndied_second=97, Nsurvived_second=87, Nsecond=184\n",
      "H_second=0.997868315671\n"
     ]
    }
   ],
   "source": [
    "second_class_passengers=data[np.where(data['Pclass']==2)]\n",
    "Nsecond=float(second_class_passengers.size)\n",
    "Nsurvived_second=float(np.sum(second_class_passengers['Survived']==1))\n",
    "Ndied_second=float(np.sum(second_class_passengers['Survived']==0))\n",
    "H_second = -Nsurvived_second/Nsecond*np.log2(Nsurvived_second/Nsecond) -Ndied_second/Nsecond*np.log2(Ndied_second/Nsecond)\n",
    "print \"Ndied_second={}, Nsurvived_second={}, Nsecond={}\".format(int(Ndied_second),int(Nsurvived_second),int(Nsecond))\n",
    "print \"H_second={}\".format(H_second)"
   ]
  },
  {
   "cell_type": "code",
   "execution_count": 8,
   "metadata": {
    "collapsed": false
   },
   "outputs": [
    {
     "name": "stdout",
     "output_type": "stream",
     "text": [
      "Ndied_third=372, Nsurvived_third=119, Nthird=491\n",
      "H_third=0.798947052266\n"
     ]
    }
   ],
   "source": [
    "third_class_passengers=data[np.where(data['Pclass']==3)]\n",
    "Nthird=float(third_class_passengers.size)\n",
    "Nsurvived_third=float(np.sum(third_class_passengers['Survived']==1))\n",
    "Ndied_third=float(np.sum(third_class_passengers['Survived']==0))\n",
    "H_third = -Nsurvived_third/Nthird*np.log2(Nsurvived_third/Nthird) -Ndied_third/Nthird*np.log2(Ndied_third/Nthird)\n",
    "print \"Ndied_third={}, Nsurvived_third={}, Nthird={}\".format(int(Ndied_third),int(Nsurvived_third),int(Nthird))\n",
    "print \"H_third={}\".format(H_third)"
   ]
  },
  {
   "cell_type": "code",
   "execution_count": 9,
   "metadata": {
    "collapsed": false
   },
   "outputs": [
    {
     "name": "stdout",
     "output_type": "stream",
     "text": [
      "IG_class=0.083831045296\n"
     ]
    }
   ],
   "source": [
    "H_class = Nfirst/Ntot*H_first + Nsecond/Ntot*H_second + Nthird/Ntot*H_third\n",
    "IG_class = H_parent - H_class\n",
    "print \"IG_class={}\".format(IG_class)"
   ]
  },
  {
   "cell_type": "markdown",
   "metadata": {},
   "source": [
    "## Information gain: sex"
   ]
  },
  {
   "cell_type": "code",
   "execution_count": 10,
   "metadata": {
    "collapsed": false
   },
   "outputs": [
    {
     "name": "stdout",
     "output_type": "stream",
     "text": [
      "Ndied_male=468, Nsurvived_male=109, Nmale=577\n",
      "H_male=0.699181789121\n"
     ]
    }
   ],
   "source": [
    "male_passengers=data[np.where(data['Sex']=='male')]\n",
    "Nmale=float(male_passengers.size)\n",
    "Nsurvived_male=float(np.sum(male_passengers['Survived']==1))\n",
    "Ndied_male=float(np.sum(male_passengers['Survived']==0))\n",
    "H_male = -Nsurvived_male/Nmale*np.log2(Nsurvived_male/Nmale) \\\n",
    "          -Ndied_male/Nmale*np.log2(Ndied_male/Nmale)\n",
    "print \"Ndied_male={}, Nsurvived_male={}, Nmale={}\".format(int(Ndied_male),int(Nsurvived_male),int(Nmale))\n",
    "print \"H_male={}\".format(H_male)"
   ]
  },
  {
   "cell_type": "code",
   "execution_count": 11,
   "metadata": {
    "collapsed": false
   },
   "outputs": [
    {
     "name": "stdout",
     "output_type": "stream",
     "text": [
      "Ndied_female=81, Nsurvived_female=233, Nfemale=314\n",
      "H_female=0.82365507393\n"
     ]
    }
   ],
   "source": [
    "female_passengers=data[np.where(data['Sex']=='female')]\n",
    "Nfemale=float(female_passengers.size)\n",
    "Nsurvived_female=float(np.sum(female_passengers['Survived']==1))\n",
    "Ndied_female=float(np.sum(female_passengers['Survived']==0))\n",
    "H_female = -Nsurvived_female/Nfemale*np.log2(Nsurvived_female/Nfemale) \\\n",
    "          -Ndied_female/Nfemale*np.log2(Ndied_female/Nfemale)\n",
    "print \"Ndied_female={}, Nsurvived_female={}, Nfemale={}\".format(int(Ndied_female),int(Nsurvived_female),int(Nfemale))\n",
    "print \"H_female={}\".format(H_female)"
   ]
  },
  {
   "cell_type": "code",
   "execution_count": 12,
   "metadata": {
    "collapsed": false
   },
   "outputs": [
    {
     "name": "stdout",
     "output_type": "stream",
     "text": [
      "IG_sex=0.217660106661\n"
     ]
    }
   ],
   "source": [
    "H_sex = Nmale/Ntot*H_male + Nfemale/Ntot*H_female\n",
    "IG_sex = H_parent - H_sex\n",
    "print \"IG_sex={}\".format(IG_sex)"
   ]
  },
  {
   "cell_type": "markdown",
   "metadata": {},
   "source": [
    "## Information gain: port of embarkation"
   ]
  },
  {
   "cell_type": "code",
   "execution_count": 13,
   "metadata": {
    "collapsed": false
   },
   "outputs": [
    {
     "name": "stdout",
     "output_type": "stream",
     "text": [
      "Ndied_cherbourg=75, Nsurvived_cherbourg=93, Ncherbourg=168\n",
      "H_cherbourg=0.991703308373\n"
     ]
    }
   ],
   "source": [
    "cherbourg_passengers=data[np.where(data['Embarked']=='C')]\n",
    "Ncherbourg=float(cherbourg_passengers.size)\n",
    "Nsurvived_cherbourg=float(np.sum(cherbourg_passengers['Survived']==1))\n",
    "Ndied_cherbourg=float(np.sum(cherbourg_passengers['Survived']==0))\n",
    "H_cherbourg = -Nsurvived_cherbourg/Ncherbourg*np.log2(Nsurvived_cherbourg/Ncherbourg) \\\n",
    "          -Ndied_cherbourg/Ncherbourg*np.log2(Ndied_cherbourg/Ncherbourg)\n",
    "print \"Ndied_cherbourg={}, Nsurvived_cherbourg={}, Ncherbourg={}\".format(int(Ndied_cherbourg),int(Nsurvived_cherbourg),int(Ncherbourg))\n",
    "print \"H_cherbourg={}\".format(H_cherbourg)"
   ]
  },
  {
   "cell_type": "code",
   "execution_count": 14,
   "metadata": {
    "collapsed": false
   },
   "outputs": [
    {
     "name": "stdout",
     "output_type": "stream",
     "text": [
      "Ndied_queenstown=47, Nsurvived_queenstown=30, Nqueenstown=77\n",
      "H_queenstown=0.964547658914\n"
     ]
    }
   ],
   "source": [
    "queenstown_passengers=data[np.where(data['Embarked']=='Q')]\n",
    "Nqueenstown=float(queenstown_passengers.size)\n",
    "Nsurvived_queenstown=float(np.sum(queenstown_passengers['Survived']==1))\n",
    "Ndied_queenstown=float(np.sum(queenstown_passengers['Survived']==0))\n",
    "H_queenstown = -Nsurvived_queenstown/Nqueenstown*np.log2(Nsurvived_queenstown/Nqueenstown) \\\n",
    "          -Ndied_queenstown/Nqueenstown*np.log2(Ndied_queenstown/Nqueenstown)\n",
    "print \"Ndied_queenstown={}, Nsurvived_queenstown={}, Nqueenstown={}\".format(int(Ndied_queenstown),int(Nsurvived_queenstown),int(Nqueenstown))\n",
    "print \"H_queenstown={}\".format(H_queenstown)"
   ]
  },
  {
   "cell_type": "code",
   "execution_count": 15,
   "metadata": {
    "collapsed": false
   },
   "outputs": [
    {
     "name": "stdout",
     "output_type": "stream",
     "text": [
      "Ndied_southampton=427, Nsurvived_southampton=217, Nsouthampton=644\n",
      "H_southampton=0.921876486347\n"
     ]
    }
   ],
   "source": [
    "southampton_passengers=data[np.where(data['Embarked']=='S')]\n",
    "Nsouthampton=float(southampton_passengers.size)\n",
    "Nsurvived_southampton=float(np.sum(southampton_passengers['Survived']==1))\n",
    "Ndied_southampton=float(np.sum(southampton_passengers['Survived']==0))\n",
    "H_southampton = -Nsurvived_southampton/Nsouthampton*np.log2(Nsurvived_southampton/Nsouthampton) \\\n",
    "          -Ndied_southampton/Nsouthampton*np.log2(Ndied_southampton/Nsouthampton)\n",
    "print \"Ndied_southampton={}, Nsurvived_southampton={}, Nsouthampton={}\".format(int(Ndied_southampton),int(Nsurvived_southampton),int(Nsouthampton))\n",
    "print \"H_southampton={}\".format(H_southampton)"
   ]
  },
  {
   "cell_type": "code",
   "execution_count": 16,
   "metadata": {
    "collapsed": false
   },
   "outputs": [
    {
     "name": "stdout",
     "output_type": "stream",
     "text": [
      "IG_embarked=0.024047090708\n"
     ]
    }
   ],
   "source": [
    "H_embarked = Ncherbourg/Ntot*H_cherbourg + Nqueenstown/Ntot*H_queenstown + Nsouthampton/Ntot*H_southampton\n",
    "IG_embarked = H_parent - H_embarked\n",
    "print \"IG_embarked={}\".format(IG_embarked)"
   ]
  },
  {
   "cell_type": "markdown",
   "metadata": {},
   "source": [
    "## Off-the-shelf machine learning algorithm"
   ]
  },
  {
   "cell_type": "code",
   "execution_count": 17,
   "metadata": {
    "collapsed": false
   },
   "outputs": [],
   "source": [
    "data['Sex'][np.where(data['Sex']=='male')]=1\n",
    "data['Sex'][np.where(data['Sex']=='female')]=2\n",
    "data_Sex=data['Sex'].astype(int)\n",
    "data['Embarked'][np.where(data['Embarked']=='C')]=0\n",
    "data['Embarked'][np.where(data['Embarked']=='Q')]=1\n",
    "data['Embarked'][np.where(data['Embarked']=='S')]=2\n",
    "data_Embarked=data['Embarked'].astype(int)\n",
    "data_Embarked[np.where((data_Embarked!=0)*(data_Embarked!=1)*(data_Embarked!=2))]=3"
   ]
  },
  {
   "cell_type": "code",
   "execution_count": 18,
   "metadata": {
    "collapsed": false
   },
   "outputs": [],
   "source": [
    "features = np.array((data['Pclass'],data_Sex,data_Embarked),dtype=np.int).T\n",
    "label = data['Survived']"
   ]
  },
  {
   "cell_type": "code",
   "execution_count": 19,
   "metadata": {
    "collapsed": false
   },
   "outputs": [
    {
     "data": {
      "text/plain": [
       "RandomForestClassifier(bootstrap=True, class_weight=None, criterion='gini',\n",
       "            max_depth=None, max_features='auto', max_leaf_nodes=None,\n",
       "            min_samples_leaf=1, min_samples_split=2,\n",
       "            min_weight_fraction_leaf=0.0, n_estimators=10, n_jobs=1,\n",
       "            oob_score=False, random_state=None, verbose=0,\n",
       "            warm_start=False)"
      ]
     },
     "execution_count": 19,
     "metadata": {},
     "output_type": "execute_result"
    }
   ],
   "source": [
    "model = RandomForestClassifier()\n",
    "model.fit(features, label)"
   ]
  },
  {
   "cell_type": "code",
   "execution_count": 20,
   "metadata": {
    "collapsed": false
   },
   "outputs": [
    {
     "data": {
      "text/plain": [
       "array([0], dtype=int32)"
      ]
     },
     "execution_count": 20,
     "metadata": {},
     "output_type": "execute_result"
    }
   ],
   "source": [
    "# prediction for a man in third class, embarked in Cherbourg\n",
    "model.predict([[3, 1, 0]])"
   ]
  },
  {
   "cell_type": "code",
   "execution_count": 21,
   "metadata": {
    "collapsed": false
   },
   "outputs": [
    {
     "data": {
      "text/plain": [
       "array([1], dtype=int32)"
      ]
     },
     "execution_count": 21,
     "metadata": {},
     "output_type": "execute_result"
    }
   ],
   "source": [
    "# prediction for a woman in first class, embarked in Southampton\n",
    "model.predict([[1, 2, 0]])"
   ]
  }
 ],
 "metadata": {
  "kernelspec": {
   "display_name": "Python 2",
   "language": "python",
   "name": "python2"
  },
  "language_info": {
   "codemirror_mode": {
    "name": "ipython",
    "version": 2
   },
   "file_extension": ".py",
   "mimetype": "text/x-python",
   "name": "python",
   "nbconvert_exporter": "python",
   "pygments_lexer": "ipython2",
   "version": "2.7.11"
  }
 },
 "nbformat": 4,
 "nbformat_minor": 0
}
