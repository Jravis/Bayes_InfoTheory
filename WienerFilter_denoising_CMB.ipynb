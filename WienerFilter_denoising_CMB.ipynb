{
 "cells": [
  {
   "cell_type": "markdown",
   "metadata": {},
   "source": [
    "# Bayesian signal reconstruction with Gaussian Random Fields (Wiener Filtering) - CMB example"
   ]
  },
  {
   "cell_type": "markdown",
   "metadata": {},
   "source": [
    "Florent Leclercq,<br/>\n",
    "Imperial Centre for Inference and Cosmology, Imperial College London,<br/>\n",
    "florent.leclercq@polytechnique.org"
   ]
  },
  {
   "cell_type": "markdown",
   "metadata": {},
   "source": [
    "This notebook requires the CLASS code (https://class-code.net) and its python wrapper classy, as well as the Planck colormap (https://raw.githubusercontent.com/zonca/paperplots/master/data/Planck_Parchment_RGB.txt).\n",
    "Optionally, pre-computed data are available:<br/>\n",
    "* http://www.florent-leclercq.eu/data/Bayes_InfoTheory/sqrtsignalcovarPix.npy (2.4 GB)\n",
    "* http://www.florent-leclercq.eu/data/Bayes_InfoTheory/sqrtCovWF.npy (2.4 GB)\n",
    "* http://www.florent-leclercq.eu/data/Bayes_InfoTheory/CovWFinvnoisecovarmat.npy (2.4 GB)\n",
    "* http://www.florent-leclercq.eu/data/Bayes_InfoTheory/invnoisecovar.npy (98.4 kB)"
   ]
  },
  {
   "cell_type": "code",
   "execution_count": null,
   "metadata": {},
   "outputs": [],
   "source": [
    "import numpy as np\n",
    "import scipy.linalg\n",
    "import os.path\n",
    "import matplotlib.pyplot as plt\n",
    "from classy import Class\n",
    "import healpy as hp\n",
    "np.random.seed(123457)\n",
    "%matplotlib inline"
   ]
  },
  {
   "cell_type": "code",
   "execution_count": null,
   "metadata": {},
   "outputs": [],
   "source": [
    "# Download and define the Planck color map\n",
    "from matplotlib.colors import ListedColormap\n",
    "if not os.path.isfile(\"data/Planck_Parchment_RGB.txt\"):\n",
    "    !wget https://raw.githubusercontent.com/zonca/paperplots/master/data/Planck_Parchment_RGB.txt --directory-prefix=data/\n",
    "planck = ListedColormap(np.loadtxt(\"data/Planck_Parchment_RGB.txt\")/255.)\n",
    "planck.set_bad(\"gray\") # color of missing pixels\n",
    "planck.set_under(\"white\") # color of background"
   ]
  },
  {
   "cell_type": "markdown",
   "metadata": {},
   "source": [
    "## Setup Cls using CLASS"
   ]
  },
  {
   "cell_type": "code",
   "execution_count": null,
   "metadata": {},
   "outputs": [],
   "source": [
    "# Define cosmology (what is not specified will be set to CLASS default parameters)\n",
    "paramsLCDM = {\n",
    "    'h':0.702,\n",
    "    'n_s':0.9619,\n",
    "    'Omega_b':0.045,\n",
    "    'Omega_cdm':0.272-0.045,\n",
    "    'output':'tCl lCl',\n",
    "    'l_max_scalars': 1000,\n",
    "    'ic':'ad',\n",
    "}\n",
    "# Create an instance of the CLASS wrapper\n",
    "cosmoLCDM = Class()\n",
    "# Set the parameters to the cosmological code\n",
    "cosmoLCDM.set(paramsLCDM)\n",
    "# Run the whole code.\n",
    "cosmoLCDM.compute()"
   ]
  },
  {
   "cell_type": "code",
   "execution_count": null,
   "metadata": {},
   "outputs": [],
   "source": [
    "# Compute the power spectrum for the current set of cosmological parameters\n",
    "res=cosmoLCDM.raw_cl(1000)\n",
    "ell=res['ell']\n",
    "Cl=res['tt']"
   ]
  },
  {
   "cell_type": "code",
   "execution_count": null,
   "metadata": {},
   "outputs": [],
   "source": [
    "# Clean CLASS\n",
    "cosmoLCDM.struct_cleanup()"
   ]
  },
  {
   "cell_type": "code",
   "execution_count": null,
   "metadata": {},
   "outputs": [],
   "source": [
    "# Define a function of l from the arrays\n",
    "from scipy.interpolate import InterpolatedUnivariateSpline\n",
    "Clfunc = InterpolatedUnivariateSpline(ell, Cl, k=2)"
   ]
  },
  {
   "cell_type": "code",
   "execution_count": null,
   "metadata": {},
   "outputs": [],
   "source": [
    "# Plot l*(l+1)*Cl/(2*pi)\n",
    "plt.xlabel(\"$\\ell$\",size=18)\n",
    "plt.ylabel(\"$\\ell(\\ell+1) C_\\ell$\",size=18)\n",
    "plt.loglog(ell,Cl*(ell*(ell+1))/(2*np.pi),label='CLASS output')\n",
    "plt.loglog(np.arange(0,999,2),Clfunc(np.arange(0,999,2))*(np.arange(0,999,2)*(np.arange(0,999,2)+1))/(2*np.pi)\n",
    "           ,label='Spline function')\n",
    "plt.legend(loc='best')\n",
    "plt.show()"
   ]
  },
  {
   "cell_type": "code",
   "execution_count": null,
   "metadata": {},
   "outputs": [],
   "source": [
    "# Setup notations\n",
    "nside=32\n",
    "npix=hp.pixelfunc.nside2npix(nside)\n",
    "lmax=min(len(Cl)-1, 3*nside-1)\n",
    "nalm=hp.Alm.getsize(lmax)"
   ]
  },
  {
   "cell_type": "markdown",
   "metadata": {},
   "source": [
    "Above $\\mathrm{nside}=64$ the covariance matrix can't be stored..."
   ]
  },
  {
   "cell_type": "markdown",
   "metadata": {},
   "source": [
    "## Setup signal covariance matrix"
   ]
  },
  {
   "cell_type": "code",
   "execution_count": null,
   "metadata": {},
   "outputs": [],
   "source": [
    "# Setup covariance matrix in harmonic space\n",
    "covarFourier=np.zeros(nalm,dtype=complex)\n",
    "for l in range(lmax+1):\n",
    "    for m in range(lmax+1):\n",
    "        idx=hp.Alm.getidx(lmax,l,m)\n",
    "        covarFourier[idx]=Clfunc(l)"
   ]
  },
  {
   "cell_type": "code",
   "execution_count": null,
   "metadata": {
    "scrolled": false
   },
   "outputs": [],
   "source": [
    "# Plot diagonal of the harmonic-space covariance matrix\n",
    "plt.xlabel(\"$a_{\\ell m}$\",size=18)\n",
    "plt.ylabel(\"$C_{\\ell}$\",size=18)\n",
    "plt.loglog(np.arange(nalm),covarFourier.real)\n",
    "plt.show()"
   ]
  },
  {
   "cell_type": "markdown",
   "metadata": {},
   "source": [
    "Each row of the covariance matrix in pixel space is given by:\n",
    "$C_i = \\mathcal{F}^{-1} \\left[ C_{a_{\\ell m}a_{\\ell m}}a_{\\ell m}(i) \\right]$\n",
    "where\n",
    "$a_{\\ell m}(i) = \\mathcal{F} \\left[ e(i) \\right]$.<br/>\n",
    "$e(i) = [\\delta^{i,j}]_{0 \\leq j < N_\\mathrm{pix}}^\\mathrm{T}$ is the unit vector of the pixel space basis.<br/>\n",
    "$\\mathcal{F}$ and $\\mathcal{F}^{-1}$ are transformations from harmonic space to pixel space:\n",
    "\\begin{eqnarray}\n",
    "    m(n) & = & \\sum_{\\ell m} a_{\\ell m} Y_{\\ell m}(n)\\\\\n",
    "    a_{\\ell m} & = & \\sum_n m(n) Y_{\\ell m}^*(n).\n",
    "\\end{eqnarray}"
   ]
  },
  {
   "cell_type": "code",
   "execution_count": null,
   "metadata": {},
   "outputs": [],
   "source": [
    "%%capture\n",
    "if os.path.isfile(\"data/sqrtsignalcovarPix.npy\"):\n",
    "    # Load precomputed sqrt covariance matrix in pixel space\n",
    "    sqrtsignalcovarPix=np.load(\"data/sqrtsignalcovarPix.npy\")\n",
    "else:\n",
    "    # Setup covariance matrix in pixel space\n",
    "    covarFouriermat=np.diagflat(covarFourier)\n",
    "    signalcovarPix=np.zeros((npix,npix))\n",
    "    for i in xrange(npix):\n",
    "        ei=np.zeros(npix)\n",
    "        ei[i]=1.\n",
    "        alm=hp.sphtfunc.map2alm(ei)\n",
    "        Calm=covarFouriermat.dot(alm)\n",
    "        signalcovarPix[i]=hp.sphtfunc.alm2map(Calm,nside)\n",
    "    signalcovarPix=signalcovarPix.T\n",
    "    sqrtsignalcovarPix=scipy.linalg.sqrtm(signalcovarPix)\n",
    "    del covarFouriermat, signalcovarPix\n",
    "    np.save(\"data/sqrtsignalcovarPix\",signalcovarPix)"
   ]
  },
  {
   "cell_type": "markdown",
   "metadata": {},
   "source": [
    "The signal covariance matrix is diagonal in harmonic space, but dense in pixel space..."
   ]
  },
  {
   "cell_type": "code",
   "execution_count": null,
   "metadata": {
    "scrolled": false
   },
   "outputs": [],
   "source": [
    "# Show sqrt covariance matrix in pixel space\n",
    "i=1000\n",
    "ei=np.zeros(npix)\n",
    "ei[i]=1.\n",
    "hp.mollview(ei, coord='G', title='one pixel', unit='mK',cmap=\"Blues\")\n",
    "hp.mollview(sqrtsignalcovarPix.real[i], coord='G', title='one row of the sqrt covariance matrix', unit='mK',cmap=\"Blues\")\n",
    "plt.show()"
   ]
  },
  {
   "cell_type": "markdown",
   "metadata": {},
   "source": [
    "## Setup mask and noise covariance"
   ]
  },
  {
   "cell_type": "code",
   "execution_count": null,
   "metadata": {},
   "outputs": [],
   "source": [
    "%%capture\n",
    "# Load the mask\n",
    "fn = \"data/TMASK_32_R2.01_full.fits\"\n",
    "tmask_map = hp.read_map(fn)\n",
    "# Simplify to binary\n",
    "tmask_map[np.where(tmask_map>0.)]=1."
   ]
  },
  {
   "cell_type": "code",
   "execution_count": null,
   "metadata": {},
   "outputs": [],
   "source": [
    "hp.mollview(tmask_map, coord='G', title='mask', unit='mK', cmap=\"magma\")\n",
    "plt.show()"
   ]
  },
  {
   "cell_type": "code",
   "execution_count": null,
   "metadata": {},
   "outputs": [],
   "source": [
    "%%capture\n",
    "if os.path.isfile(\"data/invnoisecovar.npy\"):\n",
    "    # Load precomputed inverse noise covariance matrix in pixel space\n",
    "    invnoisecovar=np.load(\"data/invnoisecovar.npy\")\n",
    "else:\n",
    "    # Setup the noise covariance (infinite in masked regions)\n",
    "    noisepower=1e-12\n",
    "    noisecovar=noisepower*tmask_map\n",
    "    noisecovar[np.where(tmask_map==0.)]=10000.\n",
    "    invnoisecovar=1./noisecovar\n",
    "    np.save(\"data/invnoisecovar\",invnoisecovar)"
   ]
  },
  {
   "cell_type": "markdown",
   "metadata": {},
   "source": [
    "The noise covariance matrix is assumed diagonal in pixel space."
   ]
  },
  {
   "cell_type": "markdown",
   "metadata": {},
   "source": [
    "## Generate mock data"
   ]
  },
  {
   "cell_type": "code",
   "execution_count": null,
   "metadata": {},
   "outputs": [],
   "source": [
    "%%capture\n",
    "# Generate the true CMB signal\n",
    "signal_map, signal_alms = hp.synfast(Cl, nside, alm=True, lmax=lmax, new=True)"
   ]
  },
  {
   "cell_type": "code",
   "execution_count": null,
   "metadata": {},
   "outputs": [],
   "source": [
    "hp.mollview(signal_map, coord='G', title='true signal', unit='mK', cmap=planck)\n",
    "plt.show()"
   ]
  },
  {
   "cell_type": "markdown",
   "metadata": {},
   "source": [
    "Data model: $d=s+n$"
   ]
  },
  {
   "cell_type": "code",
   "execution_count": null,
   "metadata": {},
   "outputs": [],
   "source": [
    "# Generate simulated data\n",
    "normalsim = np.random.normal(0., 1., len(signal_map))\n",
    "noise_map = normalsim/np.sqrt(invnoisecovar+1e-12)\n",
    "data_map = signal_map + noise_map\n",
    "data_map_vis = hp.ma(data_map)\n",
    "data_map_vis.mask = 1-tmask_map"
   ]
  },
  {
   "cell_type": "code",
   "execution_count": null,
   "metadata": {},
   "outputs": [],
   "source": [
    "hp.mollview(data_map_vis, coord='G', title='simulated data', unit='mK', cmap=planck)\n",
    "plt.show()"
   ]
  },
  {
   "cell_type": "markdown",
   "metadata": {},
   "source": [
    "## Setup Wiener filter"
   ]
  },
  {
   "cell_type": "markdown",
   "metadata": {},
   "source": [
    "Covariance of the Wiener Filter:\n",
    "\\begin{equation}\n",
    "\\mathrm{Cov}_\\mathrm{WF} = (N^{-1}+S^{-1})^{-1} = S^{1/2}(I+S^{1/2}N^{-1}S^{1/2})^{-1}S^{1/2}\n",
    "\\end{equation}\n",
    "For applications we only need to keep in memory\n",
    "$\\mathrm{Cov}_\\mathrm{WF}N^{-1}$ and $\\sqrt{\\mathrm{Cov}_\\mathrm{WF}}$."
   ]
  },
  {
   "cell_type": "code",
   "execution_count": null,
   "metadata": {},
   "outputs": [],
   "source": [
    "%%capture\n",
    "if os.path.isfile(\"data/CovWFinvnoisecovarmat.npy\") and os.path.isfile(\"data/sqrtCovWF.npy\"):\n",
    "    # Load precomputed covariance of the Wiener filter\n",
    "    del sqrtsignalcovarPix\n",
    "    CovWFinvnoisecovarmat=np.load(\"data/CovWFinvnoisecovarmat.npy\")\n",
    "    sqrtCovWF=np.load(\"data/sqrtCovWF.npy\")\n",
    "else:\n",
    "    # Setup covariance of the Wiener filter\n",
    "    invnoisecovarmat=np.diagflat(tmask_map*invnoisecovar)\n",
    "    M=np.identity(npix)+sqrtsignalcovarPix.dot(invnoisecovarmat).dot(sqrtsignalcovarPix)\n",
    "    CovWF=sqrtsignalcovarPix.dot(np.linalg.inv(M)).dot(sqrtsignalcovarPix)\n",
    "    del sqrtsignalcovarPix, M\n",
    "    # Setup CovWF*N^-1\n",
    "    CovWFinvnoisecovarmat=CovWF.dot(invnoisecovarmat)\n",
    "    np.save(\"data/CovWFinvnoisecovarmat\",CovWFinvnoisecovarmat)\n",
    "    # Setup sqrtCovWF for simulating signals\n",
    "    CovWFsym=(CovWF+CovWF.T)/2\n",
    "    del CovWF\n",
    "    sqrtCovWF=scipy.linalg.sqrtm(CovWFsym)\n",
    "    del CovWFsim\n",
    "    np.save(\"data/sqrtCovWF\",sqrtCovWF)"
   ]
  },
  {
   "cell_type": "markdown",
   "metadata": {},
   "source": [
    "## Perform signal reconstruction (apply Wiener Filtering)"
   ]
  },
  {
   "cell_type": "markdown",
   "metadata": {},
   "source": [
    "Mean of the Wiener posterior:\n",
    "\\begin{equation}\n",
    "s_\\mathrm{WF} = \\mathrm{Cov}_\\mathrm{WF} N^{-1} d\n",
    "\\end{equation}"
   ]
  },
  {
   "cell_type": "code",
   "execution_count": null,
   "metadata": {},
   "outputs": [],
   "source": [
    "# Wiener filtered map (posterior mean)\n",
    "sWF=CovWFinvnoisecovarmat.dot(data_map).real"
   ]
  },
  {
   "cell_type": "code",
   "execution_count": null,
   "metadata": {},
   "outputs": [],
   "source": [
    "hp.mollview(sWF, coord='G', title='Wiener-filtered data', unit='mK', cmap=planck)\n",
    "plt.show()"
   ]
  },
  {
   "cell_type": "markdown",
   "metadata": {},
   "source": [
    "## Generate constrained realizations (draw samples from the Wiener posterior)"
   ]
  },
  {
   "cell_type": "markdown",
   "metadata": {},
   "source": [
    "Samples of the Wiener posterior:\n",
    "\\begin{equation}\n",
    "s=s_\\mathrm{WF}+\\sqrt{C_\\mathrm{WF}} \\, G(0,1)\n",
    "\\end{equation}\n",
    "so that $\\left\\langle s \\right\\rangle = s_\\mathrm{WF}$ and $\\mathrm{Cov}(s) = C_\\mathrm{WF}$"
   ]
  },
  {
   "cell_type": "code",
   "execution_count": null,
   "metadata": {},
   "outputs": [],
   "source": [
    "# Constrained realizations (samples of the Wiener posterior)\n",
    "cr1=sqrtCovWF.dot(np.random.normal(0.,1.,npix)).real+sWF\n",
    "cr2=sqrtCovWF.dot(np.random.normal(0.,1.,npix)).real+sWF\n",
    "cr3=sqrtCovWF.dot(np.random.normal(0.,1.,npix)).real+sWF"
   ]
  },
  {
   "cell_type": "code",
   "execution_count": null,
   "metadata": {},
   "outputs": [],
   "source": [
    "hp.mollview(cr1.real, coord='G', title='One simulated signal', unit='mK', cmap=planck)\n",
    "hp.mollview(cr2.real, coord='G', title='One simulated signal', unit='mK', cmap=planck)\n",
    "hp.mollview(cr3.real, coord='G', title='One simulated signal', unit='mK', cmap=planck)\n",
    "plt.show()"
   ]
  },
  {
   "cell_type": "code",
   "execution_count": null,
   "metadata": {},
   "outputs": [],
   "source": [
    "hp.mollview(cr1.real-sWF, coord='G', title='Simulated noise contribution', unit='mK', cmap=planck)"
   ]
  },
  {
   "cell_type": "code",
   "execution_count": null,
   "metadata": {},
   "outputs": [],
   "source": [
    "hp.mollview(cr1.real-signal_map, coord='G', title='Reconstructed - true signal', unit='mK', cmap=planck)"
   ]
  },
  {
   "cell_type": "markdown",
   "metadata": {},
   "source": [
    "Of course, this is a toy example. At higher resolution, it is impossible to deal with (invert, or even store) dense covariance matrices in either pixel or harmonic space. Techniques have been devised to perform Wiener filtering in such situations: (preconditioned) conjugate gradients and messenger-field approaches. They are beyond the scope of these lectures."
   ]
  }
 ],
 "metadata": {
  "kernelspec": {
   "display_name": "Python 3",
   "language": "python",
   "name": "python3"
  },
  "language_info": {
   "codemirror_mode": {
    "name": "ipython",
    "version": 3
   },
   "file_extension": ".py",
   "mimetype": "text/x-python",
   "name": "python",
   "nbconvert_exporter": "python",
   "pygments_lexer": "ipython3",
   "version": "3.7.3"
  }
 },
 "nbformat": 4,
 "nbformat_minor": 1
}
