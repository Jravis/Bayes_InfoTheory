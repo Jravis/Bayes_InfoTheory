{
 "cells": [
  {
   "cell_type": "markdown",
   "metadata": {},
   "source": [
    "# Maximum entropy principle"
   ]
  },
  {
   "cell_type": "markdown",
   "metadata": {},
   "source": [
    "Florent Leclercq,<br/>\n",
    "Institute of Cosmology and Gravitation, University of Portsmouth,<br/>\n",
    "florent.leclercq@polytechnique.org"
   ]
  },
  {
   "cell_type": "code",
   "execution_count": 1,
   "metadata": {
    "collapsed": false
   },
   "outputs": [],
   "source": [
    "from scipy.optimize import fsolve\n",
    "from math import log, pow"
   ]
  },
  {
   "cell_type": "markdown",
   "metadata": {},
   "source": [
    "## Dice example"
   ]
  },
  {
   "cell_type": "code",
   "execution_count": 2,
   "metadata": {
    "collapsed": true
   },
   "outputs": [],
   "source": [
    "mean=4"
   ]
  },
  {
   "cell_type": "code",
   "execution_count": 3,
   "metadata": {
    "collapsed": true
   },
   "outputs": [],
   "source": [
    "# x=exp(lambda) in the notations of the lecture notes\n",
    "def Z(x):\n",
    "    return (1-pow(x,-6))/(x-1)\n",
    "def p1(x):\n",
    "    return pow(x,-1)/Z(x)\n",
    "def p2(x):\n",
    "    return pow(x,-2)/Z(x)\n",
    "def p3(x):\n",
    "    return pow(x,-3)/Z(x)\n",
    "def p4(x):\n",
    "    return pow(x,-4)/Z(x)\n",
    "def p5(x):\n",
    "    return pow(x,-5)/Z(x)\n",
    "def p6(x):\n",
    "    return pow(x,-6)/Z(x)"
   ]
  },
  {
   "cell_type": "code",
   "execution_count": 4,
   "metadata": {
    "collapsed": false
   },
   "outputs": [
    {
     "data": {
      "text/plain": [
       "0.83976857486597933"
      ]
     },
     "execution_count": 4,
     "metadata": {},
     "output_type": "execute_result"
    }
   ],
   "source": [
    "def f(x):\n",
    "    return x/(x-1) - 6/(pow(x,6)-1) - mean\n",
    "    # This is -dlnZ/dZ-mean, which should be 0\n",
    "x0=fsolve(f,2)[0]\n",
    "x0"
   ]
  },
  {
   "cell_type": "code",
   "execution_count": 5,
   "metadata": {
    "collapsed": false
   },
   "outputs": [
    {
     "data": {
      "text/plain": [
       "(0.10306524522362508,\n",
       " 0.12273053351641969,\n",
       " 0.14614804267474113,\n",
       " 0.17403371244043664,\n",
       " 0.20724008691110057,\n",
       " 0.24678237923367699)"
      ]
     },
     "execution_count": 5,
     "metadata": {},
     "output_type": "execute_result"
    }
   ],
   "source": [
    "p1(x0), p2(x0), p3(x0), p4(x0), p5(x0), p6(x0)"
   ]
  },
  {
   "cell_type": "code",
   "execution_count": 6,
   "metadata": {
    "collapsed": false
   },
   "outputs": [
    {
     "data": {
      "text/plain": [
       "1.0"
      ]
     },
     "execution_count": 6,
     "metadata": {},
     "output_type": "execute_result"
    }
   ],
   "source": [
    "# check normalization constraint\n",
    "p1(x0)+p2(x0)+p3(x0)+p4(x0)+p5(x0)+p6(x0)"
   ]
  },
  {
   "cell_type": "code",
   "execution_count": 7,
   "metadata": {
    "collapsed": false
   },
   "outputs": [
    {
     "data": {
      "text/plain": [
       "3.9999999999999991"
      ]
     },
     "execution_count": 7,
     "metadata": {},
     "output_type": "execute_result"
    }
   ],
   "source": [
    "# check mean constraint\n",
    "1*p1(x0)+2*p2(x0)+3*p3(x0)+4*p4(x0)+5*p5(x0)+6*p6(x0)"
   ]
  },
  {
   "cell_type": "markdown",
   "metadata": {},
   "source": [
    "## Cosmic web example"
   ]
  },
  {
   "cell_type": "code",
   "execution_count": 8,
   "metadata": {
    "collapsed": true
   },
   "outputs": [],
   "source": [
    "# Volume of the different structures (arbitrary normalization)\n",
    "# (based on numbers given in table II in Leclercq et al. 2015a, arXiv:1502.02690)\n",
    "V0 = 60\n",
    "V1 = 20\n",
    "V2 = 8\n",
    "V3 = 1"
   ]
  },
  {
   "cell_type": "code",
   "execution_count": 9,
   "metadata": {
    "collapsed": true
   },
   "outputs": [],
   "source": [
    "# The average volume of a random cosmic web structure\n",
    "V = 30"
   ]
  },
  {
   "cell_type": "code",
   "execution_count": 10,
   "metadata": {
    "collapsed": true
   },
   "outputs": [],
   "source": [
    "# x=exp(-beta) in the usual thermodynamic notations\n",
    "def Z(x):\n",
    "    return pow(x,V0)+pow(x,V1)+pow(x,V2)+pow(x,V3)\n",
    "def p0(x):\n",
    "    return pow(x,V0)/Z(x)\n",
    "def p1(x):\n",
    "    return pow(x,V1)/Z(x)\n",
    "def p2(x):\n",
    "    return pow(x,V2)/Z(x)\n",
    "def p3(x):\n",
    "    return pow(x,V3)/Z(x)\n",
    "def dlnZdx(x):\n",
    "    return p0(x)*V0+p1(x)*V1+p2(x)*V2+p3(x)*V3"
   ]
  },
  {
   "cell_type": "code",
   "execution_count": 11,
   "metadata": {
    "collapsed": false
   },
   "outputs": [
    {
     "data": {
      "text/plain": [
       "1.0134673199344182"
      ]
     },
     "execution_count": 11,
     "metadata": {},
     "output_type": "execute_result"
    }
   ],
   "source": [
    "def f(x):\n",
    "    return dlnZdx(x)-V\n",
    "x0=fsolve(f,0.9)[0]\n",
    "x0"
   ]
  },
  {
   "cell_type": "code",
   "execution_count": 12,
   "metadata": {
    "collapsed": false
   },
   "outputs": [
    {
     "data": {
      "text/plain": [
       "(0.39392560584840686,\n",
       " 0.23068759870801528,\n",
       " 0.19647498278472048,\n",
       " 0.17891181265885733)"
      ]
     },
     "execution_count": 12,
     "metadata": {},
     "output_type": "execute_result"
    }
   ],
   "source": [
    "P0=p0(x0); P1=p1(x0); P2=p2(x0); P3=p3(x0)\n",
    "P0,P1,P2,P3"
   ]
  },
  {
   "cell_type": "code",
   "execution_count": 13,
   "metadata": {
    "collapsed": false
   },
   "outputs": [
    {
     "data": {
      "text/plain": [
       "1.0"
      ]
     },
     "execution_count": 13,
     "metadata": {},
     "output_type": "execute_result"
    }
   ],
   "source": [
    "# check normalization constraint\n",
    "P0+P1+P2+P3"
   ]
  },
  {
   "cell_type": "code",
   "execution_count": 14,
   "metadata": {
    "collapsed": false
   },
   "outputs": [
    {
     "data": {
      "text/plain": [
       "30.000000000001336"
      ]
     },
     "execution_count": 14,
     "metadata": {},
     "output_type": "execute_result"
    }
   ],
   "source": [
    "# check average volume constraint\n",
    "P0*V0+P1*V1+P2*V2+P3*V3"
   ]
  }
 ],
 "metadata": {
  "kernelspec": {
   "display_name": "Python 2",
   "language": "python",
   "name": "python2"
  },
  "language_info": {
   "codemirror_mode": {
    "name": "ipython",
    "version": 2
   },
   "file_extension": ".py",
   "mimetype": "text/x-python",
   "name": "python",
   "nbconvert_exporter": "python",
   "pygments_lexer": "ipython2",
   "version": "2.7.11"
  }
 },
 "nbformat": 4,
 "nbformat_minor": 0
}
